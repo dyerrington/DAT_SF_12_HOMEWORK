{
 "metadata": {
  "name": "",
  "signature": "sha256:a329984d0be385add21020165a0bcbc5d163b1552ecff25d4f96749b9093ef5c"
 },
 "nbformat": 3,
 "nbformat_minor": 0,
 "worksheets": [
  {
   "cells": [
    {
     "cell_type": "markdown",
     "metadata": {},
     "source": [
      "#HW 1 \n",
      "\n",
      "##In this homework, you will be using concepts from the SQL lecture and APIs to explroe a dataset and make some basic queries. "
     ]
    },
    {
     "cell_type": "code",
     "collapsed": false,
     "input": [
      "# Import Pandas, Numpy, Matplotlib, and Sqlite3\n",
      "import pandas as pd\n",
      "import numpy as np\n",
      "import matplotlib.pyplot as plt\n",
      "import sqlite3\n",
      "\n",
      "# This enables inline Plots\n",
      "%matplotlib inline\n",
      "%load_ext sql\n",
      "\n",
      "# Limit rows displayed in notebook\n",
      "pd.set_option('display.max_rows', 10)\n",
      "pd.set_option('display.precision', 2)"
     ],
     "language": "python",
     "metadata": {},
     "outputs": [],
     "prompt_number": 144
    },
    {
     "cell_type": "markdown",
     "metadata": {},
     "source": [
      "#### 1. Connect to the SF.Gov API and pull data from the 311 Table\n",
      "https://data.sfgov.org/City-Infrastructure/Case-Data-from-San-Francisco-311-SF311-/vw6y-z8j6\n",
      "\n",
      "* 311 data contains over 1.1 Million rows in total. For this exercise, we are only looking to pull the FIRST 1000 rows\n",
      "\n",
      "Note: To get more data than 1000 rows, you may need to sign up for an app token to avoid throttling limits\n",
      "http://dev.socrata.com/foundry/#/data.sfgov.org/vw6y-z8j6\n",
      "\n",
      "We don't need this for the exercise, but something to keep in mind as you work with external APIs"
     ]
    },
    {
     "cell_type": "code",
     "collapsed": false,
     "input": [
      "# This will get you the first 1000 rows to get started with the rest of the questions\n",
      "import json\n",
      "import urllib\n",
      "\n",
      "url = \"https://data.sfgov.org/resource/vw6y-z8j6.json\"\n",
      "data = json.load(urllib.urlopen(url))"
     ],
     "language": "python",
     "metadata": {},
     "outputs": [],
     "prompt_number": 111
    },
    {
     "cell_type": "code",
     "collapsed": false,
     "input": [
      "#YOUR CODE HERE - Display the first element (row) in data\n",
      "print data[0]"
     ],
     "language": "python",
     "metadata": {},
     "outputs": [
      {
       "output_type": "stream",
       "stream": "stdout",
       "text": [
        "{}\n"
       ]
      }
     ],
     "prompt_number": 112
    },
    {
     "cell_type": "markdown",
     "metadata": {},
     "source": [
      "#### 2. How many elements are there in the JSON file? "
     ]
    },
    {
     "cell_type": "code",
     "collapsed": false,
     "input": [
      "#YOUR CODE HERE\n",
      "print len(data) # 1000 rows / elements"
     ],
     "language": "python",
     "metadata": {},
     "outputs": [
      {
       "output_type": "stream",
       "stream": "stdout",
       "text": [
        "1000\n"
       ]
      }
     ],
     "prompt_number": 113
    },
    {
     "cell_type": "markdown",
     "metadata": {},
     "source": [
      "#### Display the length of the JSON object and display the elements contained in one of the items of the JSON file? "
     ]
    },
    {
     "cell_type": "code",
     "collapsed": false,
     "input": [
      "#YOUR CODE HERE\n",
      "print len(data) # 1000 rows / elements\n",
      "print data[250] # index 251 is first non-empty element"
     ],
     "language": "python",
     "metadata": {},
     "outputs": [
      {
       "output_type": "stream",
       "stream": "stdout",
       "text": [
        "1000\n",
        "{u'category': u'311 External Request', u'status': u'Open', u'updated': u'2015-01-20T23:15:04', u'neighborhood': u'Western Addition', u'opened': u'2015-01-20T23:13:52', u'point': {u'latitude': u'37.788436761269', u'needs_recoding': False, u'longitude': u'-122.423466913964'}, u'responsible_agency': u'311 Service Request Queue', u'supervisor_district': u'2', u'source': u'Voice In', u'request_type': u'Sidewalk_or_Curb_Issues', u'case_id': u'4412743', u'address': u'1500 FRANKLIN ST, SAN FRANCISCO, CA, 94109'}\n"
       ]
      }
     ],
     "prompt_number": 114
    },
    {
     "cell_type": "markdown",
     "metadata": {},
     "source": [
      "####3. Use Pandas \"Read JSON\" functionality to turn the 311 data into a Pandas Dataframe and display the first 20 rows\n"
     ]
    },
    {
     "cell_type": "code",
     "collapsed": false,
     "input": [
      "#YOUR CODE HERE\n",
      "sfdata = pd.read_json('https://data.sfgov.org/resource/vw6y-z8j6.json')\n",
      "print sfdata.head(20)"
     ],
     "language": "python",
     "metadata": {},
     "outputs": [
      {
       "output_type": "stream",
       "stream": "stdout",
       "text": [
        "   address  case_id category closed media_url neighborhood opened point  \\\n",
        "0      NaN      NaN      NaN    NaN       NaN          NaN    NaN   NaN   \n",
        "1      NaN      NaN      NaN    NaN       NaN          NaN    NaN   NaN   \n",
        "2      NaN      NaN      NaN    NaN       NaN          NaN    NaN   NaN   \n",
        "3      NaN      NaN      NaN    NaN       NaN          NaN    NaN   NaN   \n",
        "4      NaN      NaN      NaN    NaN       NaN          NaN    NaN   NaN   \n",
        "..     ...      ...      ...    ...       ...          ...    ...   ...   \n",
        "15     NaN      NaN      NaN    NaN       NaN          NaN    NaN   NaN   \n",
        "16     NaN      NaN      NaN    NaN       NaN          NaN    NaN   NaN   \n",
        "17     NaN      NaN      NaN    NaN       NaN          NaN    NaN   NaN   \n",
        "18     NaN      NaN      NaN    NaN       NaN          NaN    NaN   NaN   \n",
        "19     NaN      NaN      NaN    NaN       NaN          NaN    NaN   NaN   \n",
        "\n",
        "   request_details request_type responsible_agency source status  \\\n",
        "0              NaN          NaN                NaN    NaN    NaN   \n",
        "1              NaN          NaN                NaN    NaN    NaN   \n",
        "2              NaN          NaN                NaN    NaN    NaN   \n",
        "3              NaN          NaN                NaN    NaN    NaN   \n",
        "4              NaN          NaN                NaN    NaN    NaN   \n",
        "..             ...          ...                ...    ...    ...   \n",
        "15             NaN          NaN                NaN    NaN    NaN   \n",
        "16             NaN          NaN                NaN    NaN    NaN   \n",
        "17             NaN          NaN                NaN    NaN    NaN   \n",
        "18             NaN          NaN                NaN    NaN    NaN   \n",
        "19             NaN          NaN                NaN    NaN    NaN   \n",
        "\n",
        "    supervisor_district updated  \n",
        "0                   NaN     NaN  \n",
        "1                   NaN     NaN  \n",
        "2                   NaN     NaN  \n",
        "3                   NaN     NaN  \n",
        "4                   NaN     NaN  \n",
        "..                  ...     ...  \n",
        "15                  NaN     NaN  \n",
        "16                  NaN     NaN  \n",
        "17                  NaN     NaN  \n",
        "18                  NaN     NaN  \n",
        "19                  NaN     NaN  \n",
        "\n",
        "[20 rows x 15 columns]\n"
       ]
      }
     ],
     "prompt_number": 138
    },
    {
     "cell_type": "markdown",
     "metadata": {},
     "source": [
      "####4. How many missing values do we have? "
     ]
    },
    {
     "cell_type": "code",
     "collapsed": false,
     "input": [
      "#YOUR CODE HERE\n",
      "pd.isnull(sfdata).sum() # 250ish?"
     ],
     "language": "python",
     "metadata": {},
     "outputs": [
      {
       "metadata": {},
       "output_type": "pyout",
       "prompt_number": 116,
       "text": [
        "address     250\n",
        "case_id     250\n",
        "category    250\n",
        "...\n",
        "status                 250\n",
        "supervisor_district    250\n",
        "updated                250\n",
        "Length: 15, dtype: int64"
       ]
      }
     ],
     "prompt_number": 116
    },
    {
     "cell_type": "markdown",
     "metadata": {},
     "source": [
      "####5. Drop the \"point\" feature from the dataframe - its a dictionary, which is unsupported in a flat database"
     ]
    },
    {
     "cell_type": "code",
     "collapsed": false,
     "input": [
      "#YOUR CODE HERE\n",
      "#print sfdata\n",
      "sfdata = sfdata.drop(\"point\", 1)"
     ],
     "language": "python",
     "metadata": {},
     "outputs": [],
     "prompt_number": 141
    },
    {
     "cell_type": "markdown",
     "metadata": {},
     "source": [
      "####5. Turn the 311 data into a database. You can use the pandas read_sql command (example [here)]('http://bit.ly/1EoP81v') or the db package from yHat to do this. "
     ]
    },
    {
     "cell_type": "code",
     "collapsed": false,
     "input": [
      "%%bash\n",
      "sqlite3 sfdata.db"
     ],
     "language": "python",
     "metadata": {},
     "outputs": [],
     "prompt_number": 118
    },
    {
     "cell_type": "code",
     "collapsed": false,
     "input": [
      "import sqlalchemy, time, datetime\n",
      "\n",
      "# use a respctable engine that gives good error reporting\n",
      "engine = sqlalchemy.create_engine('sqlite:////Users/davidyerrington/virtualenvs/data/DAT_SF_12/sfdata.db')\n",
      "\n",
      "# lets clean the shit records out first\n",
      "sfdata = sfdata.dropna(how='all')\n",
      "\n",
      "# media_url is not a proper string!  Guess we could have dropped it?\n",
      "# sfdata['media_url'] = sfdata['media_url'].dropna().map(lambda x: x['url'])\n",
      "\n",
      "# print sfdata\n",
      "\n",
      "# write to file\n",
      "sfdata.to_sql('sfdata', engine, index=True, if_exists='replace')\n",
      "\n"
     ],
     "language": "python",
     "metadata": {},
     "outputs": [],
     "prompt_number": 153
    },
    {
     "cell_type": "heading",
     "level": 6,
     "metadata": {},
     "source": [
      "6. Display the first 5 rows of the DB"
     ]
    },
    {
     "cell_type": "code",
     "collapsed": false,
     "input": [
      "%%sql sqlite:////Users/davidyerrington/virtualenvs/data/DAT_SF_12/sfdata.db\n",
      "SELECT * FROM sfdata LIMIT 5;"
     ],
     "language": "python",
     "metadata": {},
     "outputs": [
      {
       "output_type": "stream",
       "stream": "stdout",
       "text": [
        "Done.\n"
       ]
      },
      {
       "html": [
        "<table>\n",
        "    <tr>\n",
        "        <th>index</th>\n",
        "        <th>address</th>\n",
        "        <th>case_id</th>\n",
        "        <th>category</th>\n",
        "        <th>closed</th>\n",
        "        <th>media_url</th>\n",
        "        <th>neighborhood</th>\n",
        "        <th>opened</th>\n",
        "        <th>request_details</th>\n",
        "        <th>request_type</th>\n",
        "        <th>responsible_agency</th>\n",
        "        <th>source</th>\n",
        "        <th>status</th>\n",
        "        <th>supervisor_district</th>\n",
        "        <th>updated</th>\n",
        "    </tr>\n",
        "    <tr>\n",
        "        <td>250</td>\n",
        "        <td>1500 FRANKLIN ST, SAN FRANCISCO, CA, 94109</td>\n",
        "        <td>4412743.0</td>\n",
        "        <td>311 External Request</td>\n",
        "        <td>None</td>\n",
        "        <td>None</td>\n",
        "        <td>Western Addition</td>\n",
        "        <td>2015-01-20T23:13:52</td>\n",
        "        <td>None</td>\n",
        "        <td>Sidewalk_or_Curb_Issues</td>\n",
        "        <td>311 Service Request Queue</td>\n",
        "        <td>Voice In</td>\n",
        "        <td>Open</td>\n",
        "        <td>2.0</td>\n",
        "        <td>2015-01-20T23:15:04</td>\n",
        "    </tr>\n",
        "    <tr>\n",
        "        <td>251</td>\n",
        "        <td>Intersection of LYON ST and PAGE ST</td>\n",
        "        <td>4412612.0</td>\n",
        "        <td>Sign Repair</td>\n",
        "        <td>None</td>\n",
        "        <td>None</td>\n",
        "        <td>Haight Ashbury</td>\n",
        "        <td>2015-01-20T21:22:58</td>\n",
        "        <td>No_Parking - Painted_Over; support - OK</td>\n",
        "        <td>Sign - Painted_Over</td>\n",
        "        <td>DPT SignShop 05 Queue</td>\n",
        "        <td>Voice In</td>\n",
        "        <td>Open</td>\n",
        "        <td>5.0</td>\n",
        "        <td>2015-01-20T21:29:43</td>\n",
        "    </tr>\n",
        "    <tr>\n",
        "        <td>252</td>\n",
        "        <td>Intersection of 24TH AVE and GEARY BLVD</td>\n",
        "        <td>4412582.0</td>\n",
        "        <td>Damaged Property</td>\n",
        "        <td>None</td>\n",
        "        <td>None</td>\n",
        "        <td>Outer Richmond</td>\n",
        "        <td>2015-01-20T21:05:11</td>\n",
        "        <td>Traffic_Signal</td>\n",
        "        <td>Damaged Traffic_Signal</td>\n",
        "        <td>311 Service Request Queue</td>\n",
        "        <td>Voice In</td>\n",
        "        <td>Open</td>\n",
        "        <td>1.0</td>\n",
        "        <td>2015-01-20T22:02:12</td>\n",
        "    </tr>\n",
        "    <tr>\n",
        "        <td>253</td>\n",
        "        <td>901 TERESITA BLVD, SAN FRANCISCO, CA, 94127</td>\n",
        "        <td>4412540.0</td>\n",
        "        <td>Abandoned Vehicle</td>\n",
        "        <td>None</td>\n",
        "        <td>None</td>\n",
        "        <td>Outer Mission</td>\n",
        "        <td>2015-01-20T20:29:01</td>\n",
        "        <td>Brown - Toyota - Camry - 4HCC194</td>\n",
        "        <td>Abandoned Vehicle - Car4door</td>\n",
        "        <td>DPT Abandoned Vehicles Work Queue</td>\n",
        "        <td>Voice In</td>\n",
        "        <td>Open</td>\n",
        "        <td>7.0</td>\n",
        "        <td>2015-01-20T20:29:41</td>\n",
        "    </tr>\n",
        "    <tr>\n",
        "        <td>254</td>\n",
        "        <td>Intersection of CRESTLAKE DR and PARAISO PL</td>\n",
        "        <td>4412515.0</td>\n",
        "        <td>Blocked Street or SideWalk</td>\n",
        "        <td>None</td>\n",
        "        <td>None</td>\n",
        "        <td>Lakeshore</td>\n",
        "        <td>2015-01-20T20:18:53</td>\n",
        "        <td>Construction_equipment blocking parking space</td>\n",
        "        <td>Blocked_Parking_Space_or_Strip</td>\n",
        "        <td>DPW BSM Queue</td>\n",
        "        <td>Voice In</td>\n",
        "        <td>Open</td>\n",
        "        <td>4.0</td>\n",
        "        <td>2015-01-20T20:27:46</td>\n",
        "    </tr>\n",
        "</table>"
       ],
       "metadata": {},
       "output_type": "pyout",
       "prompt_number": 156,
       "text": [
        "[(250, u'1500 FRANKLIN ST, SAN FRANCISCO, CA, 94109', 4412743.0, u'311 External Request', None, None, u'Western Addition', u'2015-01-20T23:13:52', None, u'Sidewalk_or_Curb_Issues', u'311 Service Request Queue', u'Voice In', u'Open', 2.0, u'2015-01-20T23:15:04'),\n",
        " (251, u'Intersection of LYON ST and PAGE ST', 4412612.0, u'Sign Repair', None, None, u'Haight Ashbury', u'2015-01-20T21:22:58', u'No_Parking - Painted_Over; support - OK', u'Sign - Painted_Over', u'DPT SignShop 05 Queue', u'Voice In', u'Open', 5.0, u'2015-01-20T21:29:43'),\n",
        " (252, u'Intersection of 24TH AVE and GEARY BLVD', 4412582.0, u'Damaged Property', None, None, u'Outer Richmond', u'2015-01-20T21:05:11', u'Traffic_Signal', u'Damaged Traffic_Signal', u'311 Service Request Queue', u'Voice In', u'Open', 1.0, u'2015-01-20T22:02:12'),\n",
        " (253, u'901 TERESITA BLVD, SAN FRANCISCO, CA, 94127', 4412540.0, u'Abandoned Vehicle', None, None, u'Outer Mission', u'2015-01-20T20:29:01', u'Brown - Toyota - Camry - 4HCC194', u'Abandoned Vehicle - Car4door', u'DPT Abandoned Vehicles Work Queue', u'Voice In', u'Open', 7.0, u'2015-01-20T20:29:41'),\n",
        " (254, u'Intersection of CRESTLAKE DR and PARAISO PL', 4412515.0, u'Blocked Street or SideWalk', None, None, u'Lakeshore', u'2015-01-20T20:18:53', u'Construction_equipment blocking parking space', u'Blocked_Parking_Space_or_Strip', u'DPW BSM Queue', u'Voice In', u'Open', 4.0, u'2015-01-20T20:27:46')]"
       ]
      }
     ],
     "prompt_number": 156
    },
    {
     "cell_type": "markdown",
     "metadata": {},
     "source": [
      "####7. Show 10 of the sidewalk cleanings in the Haight Ashbury neighborhood"
     ]
    },
    {
     "cell_type": "code",
     "collapsed": false,
     "input": [
      "%%sql sqlite:////Users/davidyerrington/virtualenvs/data/DAT_SF_12/sfdata.db\n",
      "SELECT * FROM sfdata \n",
      "WHERE neighborhood = 'Haight Ashbury'\n",
      "  AND category LIKE '%sidewalk cleaning%'\n",
      "LIMIT 10;"
     ],
     "language": "python",
     "metadata": {},
     "outputs": [
      {
       "output_type": "stream",
       "stream": "stdout",
       "text": [
        "Done.\n"
       ]
      },
      {
       "html": [
        "<table>\n",
        "    <tr>\n",
        "        <th>index</th>\n",
        "        <th>address</th>\n",
        "        <th>case_id</th>\n",
        "        <th>category</th>\n",
        "        <th>closed</th>\n",
        "        <th>media_url</th>\n",
        "        <th>neighborhood</th>\n",
        "        <th>opened</th>\n",
        "        <th>request_details</th>\n",
        "        <th>request_type</th>\n",
        "        <th>responsible_agency</th>\n",
        "        <th>source</th>\n",
        "        <th>status</th>\n",
        "        <th>supervisor_district</th>\n",
        "        <th>updated</th>\n",
        "    </tr>\n",
        "    <tr>\n",
        "        <td>665</td>\n",
        "        <td>1156 MASONIC AVE, SAN FRANCISCO, CA, 94117</td>\n",
        "        <td>4404882.0</td>\n",
        "        <td>Street and Sidewalk Cleaning</td>\n",
        "        <td>None</td>\n",
        "        <td>http://mobile311.sfgov.org/media/san_francisco/report/photos/54bc47a2df865a0667cd0624/report.jpg</td>\n",
        "        <td>Haight Ashbury</td>\n",
        "        <td>2015-01-18T15:54:17</td>\n",
        "        <td>Paper Spill</td>\n",
        "        <td>General Cleaning</td>\n",
        "        <td>DPW Ops Queue</td>\n",
        "        <td>Open311</td>\n",
        "        <td>Open</td>\n",
        "        <td>5.0</td>\n",
        "        <td>2015-01-18T17:31:34</td>\n",
        "    </tr>\n",
        "    <tr>\n",
        "        <td>751</td>\n",
        "        <td>1270 FELL ST, SAN FRANCISCO, CA, 94117</td>\n",
        "        <td>4404604.0</td>\n",
        "        <td>Street and Sidewalk Cleaning</td>\n",
        "        <td>2015-01-18T14:33:08</td>\n",
        "        <td>http://mobile311.sfgov.org/media/san_francisco/report/photos/54bc2b15df865a0667cd03e4/report.jpg</td>\n",
        "        <td>Haight Ashbury</td>\n",
        "        <td>2015-01-18T13:52:28</td>\n",
        "        <td>Other Loose Garbage</td>\n",
        "        <td>General Cleaning</td>\n",
        "        <td>Recology_Abandoned</td>\n",
        "        <td>Open311</td>\n",
        "        <td>Closed</td>\n",
        "        <td>5.0</td>\n",
        "        <td>2015-01-18T14:33:08</td>\n",
        "    </tr>\n",
        "    <tr>\n",
        "        <td>826</td>\n",
        "        <td>554 CLAYTON ST, SAN FRANCISCO, CA, 94117</td>\n",
        "        <td>4404392.0</td>\n",
        "        <td>Street and Sidewalk Cleaning</td>\n",
        "        <td>2015-01-18T14:03:00</td>\n",
        "        <td>None</td>\n",
        "        <td>Haight Ashbury</td>\n",
        "        <td>2015-01-18T12:21:48</td>\n",
        "        <td>Refrigerator</td>\n",
        "        <td>Bulky Items</td>\n",
        "        <td>Recology_Abandoned</td>\n",
        "        <td>Integrated Agency</td>\n",
        "        <td>Closed</td>\n",
        "        <td>5.0</td>\n",
        "        <td>2015-01-18T14:03:00</td>\n",
        "    </tr>\n",
        "    <tr>\n",
        "        <td>879</td>\n",
        "        <td>1608 HAIGHT ST, SAN FRANCISCO, CA, 94117</td>\n",
        "        <td>4404223.0</td>\n",
        "        <td>Street and Sidewalk Cleaning</td>\n",
        "        <td>2015-01-20T08:18:41</td>\n",
        "        <td>None</td>\n",
        "        <td>Haight Ashbury</td>\n",
        "        <td>2015-01-18T11:04:50</td>\n",
        "        <td>Other Loose Garbage</td>\n",
        "        <td>General Cleaning</td>\n",
        "        <td>DPW Ops Queue</td>\n",
        "        <td>Voice In</td>\n",
        "        <td>Closed</td>\n",
        "        <td>5.0</td>\n",
        "        <td>2015-01-20T08:18:41</td>\n",
        "    </tr>\n",
        "    <tr>\n",
        "        <td>880</td>\n",
        "        <td>1608 HAIGHT ST, SAN FRANCISCO, CA, 94117</td>\n",
        "        <td>4404218.0</td>\n",
        "        <td>Street and Sidewalk Cleaning</td>\n",
        "        <td>None</td>\n",
        "        <td>None</td>\n",
        "        <td>Haight Ashbury</td>\n",
        "        <td>2015-01-18T11:03:20</td>\n",
        "        <td>Human Waste</td>\n",
        "        <td>Hazardous Materials</td>\n",
        "        <td>DPW Ops Queue</td>\n",
        "        <td>Voice In</td>\n",
        "        <td>Open</td>\n",
        "        <td>5.0</td>\n",
        "        <td>2015-01-18T11:04:31</td>\n",
        "    </tr>\n",
        "    <tr>\n",
        "        <td>930</td>\n",
        "        <td>632 CENTRAL AVE, SAN FRANCISCO, CA, 94117</td>\n",
        "        <td>4404080.0</td>\n",
        "        <td>Street and Sidewalk Cleaning</td>\n",
        "        <td>2015-01-18T10:54:14</td>\n",
        "        <td>http://mobile311.sfgov.org/media/san_francisco/report/photos/54bbe70ddf865a0667ccfde0/report.jpg</td>\n",
        "        <td>Haight Ashbury</td>\n",
        "        <td>2015-01-18T09:57:01</td>\n",
        "        <td>Other Loose Garbage</td>\n",
        "        <td>General Cleaning</td>\n",
        "        <td>Recology_Abandoned</td>\n",
        "        <td>Open311</td>\n",
        "        <td>Closed</td>\n",
        "        <td>5.0</td>\n",
        "        <td>2015-01-18T10:54:14</td>\n",
        "    </tr>\n",
        "</table>"
       ],
       "metadata": {},
       "output_type": "pyout",
       "prompt_number": 168,
       "text": [
        "[(665, u'1156 MASONIC AVE, SAN FRANCISCO, CA, 94117', 4404882.0, u'Street and Sidewalk Cleaning', None, u'http://mobile311.sfgov.org/media/san_francisco/report/photos/54bc47a2df865a0667cd0624/report.jpg', u'Haight Ashbury', u'2015-01-18T15:54:17', u'Paper Spill', u'General Cleaning', u'DPW Ops Queue', u'Open311', u'Open', 5.0, u'2015-01-18T17:31:34'),\n",
        " (751, u'1270 FELL ST, SAN FRANCISCO, CA, 94117', 4404604.0, u'Street and Sidewalk Cleaning', u'2015-01-18T14:33:08', u'http://mobile311.sfgov.org/media/san_francisco/report/photos/54bc2b15df865a0667cd03e4/report.jpg', u'Haight Ashbury', u'2015-01-18T13:52:28', u'Other Loose Garbage', u'General Cleaning', u'Recology_Abandoned', u'Open311', u'Closed', 5.0, u'2015-01-18T14:33:08'),\n",
        " (826, u'554 CLAYTON ST, SAN FRANCISCO, CA, 94117', 4404392.0, u'Street and Sidewalk Cleaning', u'2015-01-18T14:03:00', None, u'Haight Ashbury', u'2015-01-18T12:21:48', u'Refrigerator', u'Bulky Items', u'Recology_Abandoned', u'Integrated Agency', u'Closed', 5.0, u'2015-01-18T14:03:00'),\n",
        " (879, u'1608 HAIGHT ST, SAN FRANCISCO, CA, 94117', 4404223.0, u'Street and Sidewalk Cleaning', u'2015-01-20T08:18:41', None, u'Haight Ashbury', u'2015-01-18T11:04:50', u'Other Loose Garbage', u'General Cleaning', u'DPW Ops Queue', u'Voice In', u'Closed', 5.0, u'2015-01-20T08:18:41'),\n",
        " (880, u'1608 HAIGHT ST, SAN FRANCISCO, CA, 94117', 4404218.0, u'Street and Sidewalk Cleaning', None, None, u'Haight Ashbury', u'2015-01-18T11:03:20', u'Human Waste', u'Hazardous Materials', u'DPW Ops Queue', u'Voice In', u'Open', 5.0, u'2015-01-18T11:04:31'),\n",
        " (930, u'632 CENTRAL AVE, SAN FRANCISCO, CA, 94117', 4404080.0, u'Street and Sidewalk Cleaning', u'2015-01-18T10:54:14', u'http://mobile311.sfgov.org/media/san_francisco/report/photos/54bbe70ddf865a0667ccfde0/report.jpg', u'Haight Ashbury', u'2015-01-18T09:57:01', u'Other Loose Garbage', u'General Cleaning', u'Recology_Abandoned', u'Open311', u'Closed', 5.0, u'2015-01-18T10:54:14')]"
       ]
      }
     ],
     "prompt_number": 168
    },
    {
     "cell_type": "markdown",
     "metadata": {},
     "source": [
      "####8. Which type of complaint was most common? "
     ]
    },
    {
     "cell_type": "code",
     "collapsed": false,
     "input": [
      "%%sql sqlite:////Users/davidyerrington/virtualenvs/data/DAT_SF_12/sfdata.db\n",
      "SELECT category, COUNT(*) as total FROM sfdata \n",
      "GROUP BY category \n",
      "ORDER BY total DESC;\n",
      "\n",
      "/* looks like \"Street and Sidewalk Cleaning\" / 191 */"
     ],
     "language": "python",
     "metadata": {},
     "outputs": [
      {
       "output_type": "stream",
       "stream": "stdout",
       "text": [
        "Done.\n"
       ]
      },
      {
       "html": [
        "<table>\n",
        "    <tr>\n",
        "        <th>category</th>\n",
        "        <th>total</th>\n",
        "    </tr>\n",
        "    <tr>\n",
        "        <td>Street and Sidewalk Cleaning</td>\n",
        "        <td>191</td>\n",
        "    </tr>\n",
        "    <tr>\n",
        "        <td>Damaged Property</td>\n",
        "        <td>107</td>\n",
        "    </tr>\n",
        "    <tr>\n",
        "        <td>Graffiti Public Property</td>\n",
        "        <td>83</td>\n",
        "    </tr>\n",
        "    <tr>\n",
        "        <td>Sign Repair</td>\n",
        "        <td>68</td>\n",
        "    </tr>\n",
        "    <tr>\n",
        "        <td>Graffiti Private Property</td>\n",
        "        <td>64</td>\n",
        "    </tr>\n",
        "    <tr>\n",
        "        <td>Abandoned Vehicle</td>\n",
        "        <td>63</td>\n",
        "    </tr>\n",
        "    <tr>\n",
        "        <td>Blocked Street or SideWalk</td>\n",
        "        <td>36</td>\n",
        "    </tr>\n",
        "    <tr>\n",
        "        <td>Sewer Issues</td>\n",
        "        <td>22</td>\n",
        "    </tr>\n",
        "    <tr>\n",
        "        <td>Rec and Park Requests</td>\n",
        "        <td>20</td>\n",
        "    </tr>\n",
        "    <tr>\n",
        "        <td>Streetlights</td>\n",
        "        <td>17</td>\n",
        "    </tr>\n",
        "    <tr>\n",
        "        <td>Illegal Postings</td>\n",
        "        <td>14</td>\n",
        "    </tr>\n",
        "    <tr>\n",
        "        <td>SFHA Requests</td>\n",
        "        <td>12</td>\n",
        "    </tr>\n",
        "    <tr>\n",
        "        <td>General Requests</td>\n",
        "        <td>11</td>\n",
        "    </tr>\n",
        "    <tr>\n",
        "        <td>Litter Receptacles</td>\n",
        "        <td>9</td>\n",
        "    </tr>\n",
        "    <tr>\n",
        "        <td>MUNI Feedback</td>\n",
        "        <td>8</td>\n",
        "    </tr>\n",
        "    <tr>\n",
        "        <td>311 External Request</td>\n",
        "        <td>6</td>\n",
        "    </tr>\n",
        "    <tr>\n",
        "        <td>Sidewalk or Curb</td>\n",
        "        <td>6</td>\n",
        "    </tr>\n",
        "    <tr>\n",
        "        <td>Tree Maintenance</td>\n",
        "        <td>5</td>\n",
        "    </tr>\n",
        "    <tr>\n",
        "        <td>Residential Building Request</td>\n",
        "        <td>3</td>\n",
        "    </tr>\n",
        "    <tr>\n",
        "        <td>Street Defects</td>\n",
        "        <td>2</td>\n",
        "    </tr>\n",
        "    <tr>\n",
        "        <td>Catch Basin Maintenance</td>\n",
        "        <td>1</td>\n",
        "    </tr>\n",
        "    <tr>\n",
        "        <td>Color Curb</td>\n",
        "        <td>1</td>\n",
        "    </tr>\n",
        "    <tr>\n",
        "        <td>Temporary Sign Request</td>\n",
        "        <td>1</td>\n",
        "    </tr>\n",
        "</table>"
       ],
       "metadata": {},
       "output_type": "pyout",
       "prompt_number": 172,
       "text": [
        "[(u'Street and Sidewalk Cleaning', 191),\n",
        " (u'Damaged Property', 107),\n",
        " (u'Graffiti Public Property', 83),\n",
        " (u'Sign Repair', 68),\n",
        " (u'Graffiti Private Property', 64),\n",
        " (u'Abandoned Vehicle', 63),\n",
        " (u'Blocked Street or SideWalk', 36),\n",
        " (u'Sewer Issues', 22),\n",
        " (u'Rec and Park Requests', 20),\n",
        " (u'Streetlights', 17),\n",
        " (u'Illegal Postings', 14),\n",
        " (u'SFHA Requests', 12),\n",
        " (u'General Requests', 11),\n",
        " (u'Litter Receptacles', 9),\n",
        " (u'MUNI Feedback', 8),\n",
        " (u'311 External Request', 6),\n",
        " (u'Sidewalk or Curb', 6),\n",
        " (u'Tree Maintenance', 5),\n",
        " (u'Residential Building Request', 3),\n",
        " (u'Street Defects', 2),\n",
        " (u'Catch Basin Maintenance', 1),\n",
        " (u'Color Curb', 1),\n",
        " (u'Temporary Sign Request', 1)]"
       ]
      }
     ],
     "prompt_number": 172
    },
    {
     "cell_type": "markdown",
     "metadata": {},
     "source": [
      "####9. Are there any neighborhoods where sidewalk cleaning requests aren't the most common? "
     ]
    },
    {
     "cell_type": "code",
     "collapsed": false,
     "input": [
      "%%sql sqlite:////Users/davidyerrington/virtualenvs/data/DAT_SF_12/sfdata.db\n",
      "SELECT neighborhood, category, COUNT(*) as total FROM sfdata \n",
      "WHERE category LIKE '%sidewalk cleaning%'\n",
      "GROUP BY neighborhood, category \n",
      "HAVING total < 4\n",
      "ORDER BY total;"
     ],
     "language": "python",
     "metadata": {},
     "outputs": [
      {
       "output_type": "stream",
       "stream": "stdout",
       "text": [
        "Done.\n"
       ]
      },
      {
       "html": [
        "<table>\n",
        "    <tr>\n",
        "        <th>neighborhood</th>\n",
        "        <th>category</th>\n",
        "        <th>total</th>\n",
        "    </tr>\n",
        "    <tr>\n",
        "        <td>None</td>\n",
        "        <td>Street and Sidewalk Cleaning</td>\n",
        "        <td>1</td>\n",
        "    </tr>\n",
        "    <tr>\n",
        "        <td>Chinatown</td>\n",
        "        <td>Street and Sidewalk Cleaning</td>\n",
        "        <td>1</td>\n",
        "    </tr>\n",
        "    <tr>\n",
        "        <td>Crocker Amazon</td>\n",
        "        <td>Street and Sidewalk Cleaning</td>\n",
        "        <td>1</td>\n",
        "    </tr>\n",
        "    <tr>\n",
        "        <td>Potrero Hill</td>\n",
        "        <td>Street and Sidewalk Cleaning</td>\n",
        "        <td>1</td>\n",
        "    </tr>\n",
        "    <tr>\n",
        "        <td>Seacliff</td>\n",
        "        <td>Street and Sidewalk Cleaning</td>\n",
        "        <td>1</td>\n",
        "    </tr>\n",
        "    <tr>\n",
        "        <td>Visitacion Valley</td>\n",
        "        <td>Street and Sidewalk Cleaning</td>\n",
        "        <td>1</td>\n",
        "    </tr>\n",
        "    <tr>\n",
        "        <td>West of Twin Peaks</td>\n",
        "        <td>Street and Sidewalk Cleaning</td>\n",
        "        <td>1</td>\n",
        "    </tr>\n",
        "    <tr>\n",
        "        <td>Inner Sunset</td>\n",
        "        <td>Street and Sidewalk Cleaning</td>\n",
        "        <td>2</td>\n",
        "    </tr>\n",
        "    <tr>\n",
        "        <td>Outer Mission</td>\n",
        "        <td>Street and Sidewalk Cleaning</td>\n",
        "        <td>2</td>\n",
        "    </tr>\n",
        "    <tr>\n",
        "        <td>Parkside</td>\n",
        "        <td>Street and Sidewalk Cleaning</td>\n",
        "        <td>2</td>\n",
        "    </tr>\n",
        "    <tr>\n",
        "        <td>Bernal Heights</td>\n",
        "        <td>Street and Sidewalk Cleaning</td>\n",
        "        <td>3</td>\n",
        "    </tr>\n",
        "    <tr>\n",
        "        <td>Excelsior</td>\n",
        "        <td>Street and Sidewalk Cleaning</td>\n",
        "        <td>3</td>\n",
        "    </tr>\n",
        "    <tr>\n",
        "        <td>Outer Richmond</td>\n",
        "        <td>Street and Sidewalk Cleaning</td>\n",
        "        <td>3</td>\n",
        "    </tr>\n",
        "</table>"
       ],
       "metadata": {},
       "output_type": "pyout",
       "prompt_number": 185,
       "text": [
        "[(None, u'Street and Sidewalk Cleaning', 1),\n",
        " (u'Chinatown', u'Street and Sidewalk Cleaning', 1),\n",
        " (u'Crocker Amazon', u'Street and Sidewalk Cleaning', 1),\n",
        " (u'Potrero Hill', u'Street and Sidewalk Cleaning', 1),\n",
        " (u'Seacliff', u'Street and Sidewalk Cleaning', 1),\n",
        " (u'Visitacion Valley', u'Street and Sidewalk Cleaning', 1),\n",
        " (u'West of Twin Peaks', u'Street and Sidewalk Cleaning', 1),\n",
        " (u'Inner Sunset', u'Street and Sidewalk Cleaning', 2),\n",
        " (u'Outer Mission', u'Street and Sidewalk Cleaning', 2),\n",
        " (u'Parkside', u'Street and Sidewalk Cleaning', 2),\n",
        " (u'Bernal Heights', u'Street and Sidewalk Cleaning', 3),\n",
        " (u'Excelsior', u'Street and Sidewalk Cleaning', 3),\n",
        " (u'Outer Richmond', u'Street and Sidewalk Cleaning', 3)]"
       ]
      }
     ],
     "prompt_number": 185
    },
    {
     "cell_type": "markdown",
     "metadata": {},
     "source": [
      "####BONUS: Come up with your own query! Challenge your fellow classmates by posting your query on HipChat."
     ]
    },
    {
     "cell_type": "code",
     "collapsed": false,
     "input": [
      "%%sql sqlite:////Users/davidyerrington/virtualenvs/data/DAT_SF_12/sfdata.db\n",
      "\n",
      "    -- Damage events recorded per weekday --\n",
      "    \n",
      "SELECT category, closed, \n",
      "  case cast (strftime('%w', closed) as integer)\n",
      "  when 0 then 'Sunday'\n",
      "  when 1 then 'Monday'\n",
      "  when 2 then 'Tuesday'\n",
      "  when 3 then 'Wednesday'\n",
      "  when 4 then 'Thursday'\n",
      "  when 5 then 'Friday'\n",
      "  else 'Saturday' end as weekday\n",
      ", COUNT(*) as total FROM sfdata \n",
      "WHERE category LIKE '%sewe%' AND closed != 'None'\n",
      "GROUP BY strftime('%w', closed)\n",
      "ORDER BY total DESC;"
     ],
     "language": "python",
     "metadata": {},
     "outputs": [
      {
       "output_type": "stream",
       "stream": "stdout",
       "text": [
        "Done.\n"
       ]
      },
      {
       "html": [
        "<table>\n",
        "    <tr>\n",
        "        <th>category</th>\n",
        "        <th>closed</th>\n",
        "        <th>weekday</th>\n",
        "        <th>total</th>\n",
        "    </tr>\n",
        "    <tr>\n",
        "        <td>Sewer Issues</td>\n",
        "        <td>2015-01-20T11:22:52</td>\n",
        "        <td>Tuesday</td>\n",
        "        <td>10</td>\n",
        "    </tr>\n",
        "    <tr>\n",
        "        <td>Sewer Issues</td>\n",
        "        <td>2015-01-18T11:22:45</td>\n",
        "        <td>Sunday</td>\n",
        "        <td>2</td>\n",
        "    </tr>\n",
        "    <tr>\n",
        "        <td>Sewer Issues</td>\n",
        "        <td>2015-01-19T10:27:37</td>\n",
        "        <td>Monday</td>\n",
        "        <td>1</td>\n",
        "    </tr>\n",
        "</table>"
       ],
       "metadata": {},
       "output_type": "pyout",
       "prompt_number": 215,
       "text": [
        "[(u'Sewer Issues', u'2015-01-20T11:22:52', u'Tuesday', 10),\n",
        " (u'Sewer Issues', u'2015-01-18T11:22:45', u'Sunday', 2),\n",
        " (u'Sewer Issues', u'2015-01-19T10:27:37', u'Monday', 1)]"
       ]
      }
     ],
     "prompt_number": 215
    },
    {
     "cell_type": "code",
     "collapsed": false,
     "input": [
      "%%sql sqlite:////Users/davidyerrington/virtualenvs/data/DAT_SF_12/sfdata.db\n",
      "    \n",
      "    -- Damage events recorded per day of the week, per neighborhood --\n",
      "    \n",
      "SELECT neighborhood, category, closed, \n",
      "  case cast (strftime('%w', closed) as integer)\n",
      "  when 0 then 'Sunday'\n",
      "  when 1 then 'Monday'\n",
      "  when 2 then 'Tuesday'\n",
      "  when 3 then 'Wednesday'\n",
      "  when 4 then 'Thursday'\n",
      "  when 5 then 'Friday'\n",
      "  else 'Saturday' end as weekday\n",
      ", COUNT(*) as total FROM sfdata \n",
      "WHERE category LIKE '%damage%' AND closed != 'None'\n",
      "GROUP BY strftime('%w', closed), neighborhood\n",
      "ORDER BY total DESC;"
     ],
     "language": "python",
     "metadata": {},
     "outputs": [
      {
       "output_type": "stream",
       "stream": "stdout",
       "text": [
        "Done.\n"
       ]
      },
      {
       "html": [
        "<table>\n",
        "    <tr>\n",
        "        <th>neighborhood</th>\n",
        "        <th>category</th>\n",
        "        <th>closed</th>\n",
        "        <th>weekday</th>\n",
        "        <th>total</th>\n",
        "    </tr>\n",
        "    <tr>\n",
        "        <td>Russian Hill</td>\n",
        "        <td>Damaged Property</td>\n",
        "        <td>2015-01-20T12:57:05</td>\n",
        "        <td>Tuesday</td>\n",
        "        <td>2</td>\n",
        "    </tr>\n",
        "    <tr>\n",
        "        <td>Golden Gate Park</td>\n",
        "        <td>Damaged Property</td>\n",
        "        <td>2015-01-19T15:35:06</td>\n",
        "        <td>Monday</td>\n",
        "        <td>1</td>\n",
        "    </tr>\n",
        "    <tr>\n",
        "        <td>Inner Sunset</td>\n",
        "        <td>Damaged Property</td>\n",
        "        <td>2015-01-20T12:56:36</td>\n",
        "        <td>Tuesday</td>\n",
        "        <td>1</td>\n",
        "    </tr>\n",
        "    <tr>\n",
        "        <td>Lakeshore</td>\n",
        "        <td>Damaged Property</td>\n",
        "        <td>2015-01-20T07:47:41</td>\n",
        "        <td>Tuesday</td>\n",
        "        <td>1</td>\n",
        "    </tr>\n",
        "    <tr>\n",
        "        <td>Nob Hill</td>\n",
        "        <td>Damaged Property</td>\n",
        "        <td>2015-01-20T12:56:59</td>\n",
        "        <td>Tuesday</td>\n",
        "        <td>1</td>\n",
        "    </tr>\n",
        "    <tr>\n",
        "        <td>North Beach</td>\n",
        "        <td>Damaged Property</td>\n",
        "        <td>2015-01-20T12:56:50</td>\n",
        "        <td>Tuesday</td>\n",
        "        <td>1</td>\n",
        "    </tr>\n",
        "    <tr>\n",
        "        <td>Outer Sunset</td>\n",
        "        <td>Damaged Property</td>\n",
        "        <td>2015-01-20T09:08:00</td>\n",
        "        <td>Tuesday</td>\n",
        "        <td>1</td>\n",
        "    </tr>\n",
        "    <tr>\n",
        "        <td>Potrero Hill</td>\n",
        "        <td>Damaged Property</td>\n",
        "        <td>2015-01-20T07:48:24</td>\n",
        "        <td>Tuesday</td>\n",
        "        <td>1</td>\n",
        "    </tr>\n",
        "    <tr>\n",
        "        <td>South of Market</td>\n",
        "        <td>Damaged Property</td>\n",
        "        <td>2015-01-20T05:34:54</td>\n",
        "        <td>Tuesday</td>\n",
        "        <td>1</td>\n",
        "    </tr>\n",
        "    <tr>\n",
        "        <td>Visitacion Valley</td>\n",
        "        <td>Damaged Property</td>\n",
        "        <td>2015-01-20T13:58:44</td>\n",
        "        <td>Tuesday</td>\n",
        "        <td>1</td>\n",
        "    </tr>\n",
        "</table>"
       ],
       "metadata": {},
       "output_type": "pyout",
       "prompt_number": 206,
       "text": [
        "[(u'Russian Hill', u'Damaged Property', u'2015-01-20T12:57:05', u'Tuesday', 2),\n",
        " (u'Golden Gate Park', u'Damaged Property', u'2015-01-19T15:35:06', u'Monday', 1),\n",
        " (u'Inner Sunset', u'Damaged Property', u'2015-01-20T12:56:36', u'Tuesday', 1),\n",
        " (u'Lakeshore', u'Damaged Property', u'2015-01-20T07:47:41', u'Tuesday', 1),\n",
        " (u'Nob Hill', u'Damaged Property', u'2015-01-20T12:56:59', u'Tuesday', 1),\n",
        " (u'North Beach', u'Damaged Property', u'2015-01-20T12:56:50', u'Tuesday', 1),\n",
        " (u'Outer Sunset', u'Damaged Property', u'2015-01-20T09:08:00', u'Tuesday', 1),\n",
        " (u'Potrero Hill', u'Damaged Property', u'2015-01-20T07:48:24', u'Tuesday', 1),\n",
        " (u'South of Market', u'Damaged Property', u'2015-01-20T05:34:54', u'Tuesday', 1),\n",
        " (u'Visitacion Valley', u'Damaged Property', u'2015-01-20T13:58:44', u'Tuesday', 1)]"
       ]
      }
     ],
     "prompt_number": 206
    },
    {
     "cell_type": "code",
     "collapsed": false,
     "input": [],
     "language": "python",
     "metadata": {},
     "outputs": []
    }
   ],
   "metadata": {}
  }
 ]
}